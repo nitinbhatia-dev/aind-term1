{
 "cells": [
  {
   "cell_type": "code",
   "execution_count": 21,
   "metadata": {
    "collapsed": true,
    "deletable": true,
    "editable": true
   },
   "outputs": [],
   "source": [
    "test = ['123','23','1245','23','239','4567','8','56','56','67']"
   ]
  },
  {
   "cell_type": "code",
   "execution_count": 22,
   "metadata": {
    "collapsed": false,
    "deletable": true,
    "editable": true
   },
   "outputs": [
    {
     "name": "stdout",
     "output_type": "stream",
     "text": [
      "key exists 23\n",
      "key exists 56\n",
      "{'23': 2, '56': 2, '67': 1}\n"
     ]
    }
   ],
   "source": [
    "mydict = {}\n",
    "ctr = 0\n",
    "for i in test:\n",
    "    if(len(i)) == 2:\n",
    "        if i not in mydict.keys():\n",
    "            mydict[i] = 1\n",
    "            #mydict.get(i)\n",
    "        else:\n",
    "            print('key exists',i)\n",
    "            mydict[i] = mydict.get(i) + 1\n",
    "        \n",
    "print(mydict)\n",
    "\n"
   ]
  },
  {
   "cell_type": "code",
   "execution_count": 4,
   "metadata": {
    "collapsed": false,
    "deletable": true,
    "editable": true
   },
   "outputs": [
    {
     "name": "stdout",
     "output_type": "stream",
     "text": [
      "1\n",
      "3\n"
     ]
    }
   ],
   "source": [
    "\n",
    "\n",
    "\n",
    "a = '12'\n",
    "b = '13'\n",
    "for x in a:\n",
    "    if x in b :\n",
    "        print(1)\n",
    "        b = b.replace(x,'')\n",
    "        \n",
    "print(b)\n"
   ]
  },
  {
   "cell_type": "code",
   "execution_count": 24,
   "metadata": {
    "collapsed": false
   },
   "outputs": [
    {
     "data": {
      "text/plain": [
       "{'23': 2, '56': 2, '67': 1}"
      ]
     },
     "execution_count": 24,
     "metadata": {},
     "output_type": "execute_result"
    }
   ],
   "source": [
    "mydict\n"
   ]
  },
  {
   "cell_type": "code",
   "execution_count": 27,
   "metadata": {
    "collapsed": false
   },
   "outputs": [
    {
     "name": "stdout",
     "output_type": "stream",
     "text": [
      "{'67': 1}\n",
      "['67']\n"
     ]
    }
   ],
   "source": [
    "t ={k: v for k, v in mydict.items() if v == 1}\n",
    "t1 = [k for k,v in mydict.items() if v == 1]\n",
    "print(t)\n",
    "print(t1)"
   ]
  }
 ],
 "metadata": {
  "kernelspec": {
   "display_name": "Python 3",
   "language": "python",
   "name": "python3"
  },
  "language_info": {
   "codemirror_mode": {
    "name": "ipython",
    "version": 3
   },
   "file_extension": ".py",
   "mimetype": "text/x-python",
   "name": "python",
   "nbconvert_exporter": "python",
   "pygments_lexer": "ipython3",
   "version": "3.6.0"
  }
 },
 "nbformat": 4,
 "nbformat_minor": 2
}
